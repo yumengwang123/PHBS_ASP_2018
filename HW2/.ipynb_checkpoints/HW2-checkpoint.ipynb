{
 "cells": [
  {
   "cell_type": "markdown",
   "metadata": {},
   "source": [
    "# HW 2: Corporate Bond Pricing (due by 9.21 Fri)"
   ]
  },
  {
   "cell_type": "markdown",
   "metadata": {},
   "source": [
    "We are going to compute the price of a corporate bond (subject to default) with Monte-Carlo simulation. Assume that \n",
    "* the default time of a company follows the exponential distribution with intensity $\\lambda=$__`def_rate`__. \n",
    "* the riskfree interest rate is $r_f=$__`rf_rate`__ and the maturity of the bond is $T=$__`mat`__. \n",
    "* in the case of default, you can recover some portion ($R=$__`recovery_rate`__) of the face value.\n",
    "* the coupon is 0%, i.e., it is a zero-coupon bond.\n",
    "* the face value of the bond is 1.0\n",
    "* use compound rate for discounting; the price of the default-free bond is $e^{-r_f T}$\n",
    "\n",
    "The Problem 1 of the [2017 ASP Midterm Exam](../files/ASP2017_Midterm.pdf) will be helpful.\n",
    "\n",
    "### Instruction to upload your HW\n",
    "* Create a repository named __`PHBS_ASP_2018`__ (and clone it to your PC)\n",
    "* Copy this file to __`PHBS_ASP_2018/HW2/HW2.ipynb`__  (Please use the same name for repository and ipynb file)\n",
    "* Adding more code.\n",
    "* Run your your code to make sure that there's no error.\n",
    "* Upload (commit and sync) your file."
   ]
  },
  {
   "cell_type": "markdown",
   "metadata": {},
   "source": [
    "### 1. First, let's create a pricing function and check the std "
   ]
  },
  {
   "cell_type": "code",
   "execution_count": 2,
   "metadata": {},
   "outputs": [],
   "source": [
    "import numpy as np"
   ]
  },
  {
   "cell_type": "code",
   "execution_count": 3,
   "metadata": {},
   "outputs": [],
   "source": [
    "def_rate = 0.1\n",
    "rf_rate = 0.03\n",
    "recovery = 0.3\n",
    "mat = 10"
   ]
  },
  {
   "cell_type": "markdown",
   "metadata": {},
   "source": []
  },
  {
   "cell_type": "code",
   "execution_count": 4,
   "metadata": {},
   "outputs": [
    {
     "data": {
      "text/plain": [
       "(10.073427052394544, 10.0)"
      ]
     },
     "execution_count": 4,
     "metadata": {},
     "output_type": "execute_result"
    }
   ],
   "source": [
    "# First generate exponential random numbers\n",
    "# Although you can generate directly using fault_time = np.random.exponential(scale=), let's use uniform random numbers.\n",
    "n_sample = 10000\n",
    "U = np.random.uniform(size=n_sample)\n",
    "default_time = -(1/def_rate)*np.log(U)\n",
    "\n",
    "# You can check if the RNs are correct by comparing the means\n",
    "(default_time.mean(), 1/def_rate)"
   ]
  },
  {
   "cell_type": "markdown",
   "metadata": {},
   "source": [
    "$$ payoff = {\\rm e}^{-r_fT}I_{t>T}+R{\\rm e}^{-r_ft}I_{t<=T} $$"
   ]
  },
  {
   "cell_type": "code",
   "execution_count": 11,
   "metadata": {},
   "outputs": [
    {
     "data": {
      "text/plain": [
       "(0.9411354971573697, 0.0012914714848062672)"
      ]
     },
     "execution_count": 11,
     "metadata": {},
     "output_type": "execute_result"
    }
   ],
   "source": [
    "# Put your code here to price the corporate bond\n",
    "def create_default_time(def_rate, n_sample):\n",
    "    U = np.random.uniform(size=n_sample)\n",
    "    default_time = -(1/def_rate)*np.log(U)\n",
    "    return default_time\n",
    "\n",
    "def corp_bond(mat=1, def_rate=0.03, rf_rate=0.04, recovery=0.3, n_sample=10000):\n",
    "    t = create_default_time(def_rate, n_sample)\n",
    "    def_ind = t<=mat\n",
    "    payoff = np.exp(-rf_rate*mat)*(~def_ind)+recovery*np.exp(-rf_rate*t)*(def_ind)\n",
    "    p = payoff.mean()\n",
    "    return p\n",
    "\n",
    "# Call your function\n",
    "corp_bond()\n",
    "\n",
    "# Find the mean and std by calling the function 100 times. \n",
    "def MC_est_price(iter_times = 100):\n",
    "    price_list = []\n",
    "    for i in range(iter_times):\n",
    "        price_list.append(corp_bond())\n",
    "    MC_est = np.mean(price_list)\n",
    "    MC_std = np.std(price_list)\n",
    "    return MC_est, MC_std\n",
    "\n",
    "MC_est_price()"
   ]
  },
  {
   "cell_type": "markdown",
   "metadata": {},
   "source": [
    "### 2. Now, let's improve the function by reducing the MC variations.\n",
    "1. Use antithetic method: If `U` is uniform random variable, so is `1-U`\n",
    "2. Also shift the RNs to match the mean, `1/def_rate`"
   ]
  },
  {
   "cell_type": "code",
   "execution_count": 18,
   "metadata": {},
   "outputs": [
    {
     "name": "stdout",
     "output_type": "stream",
     "text": [
      "(0.94100941238242, 0.0011522653170994261)\n",
      "(0.9410478230207834, 0.000804873755987163)\n",
      "(0.940204044099077, 0.0030877861193467737)\n"
     ]
    }
   ],
   "source": [
    "# For example, antithetic method mean\n",
    "n_sample = 10000\n",
    "U = np.random.uniform(size=n_sample)\n",
    "default_time = -(1/def_rate)*np.log(np.concatenate((U,1-U),axis=0))\n",
    "\n",
    "# Mean-matching means\n",
    "default_time += 1/def_rate-default_time.mean()\n",
    "(default_time.mean(), 1/def_rate)\n",
    "\n",
    "def corp_bond_cv(mat=1, def_rate=0.03, rf_rate=0.04, recovery=0.3, n_sample=10000, anti_ind=True, mean_ind=True):\n",
    "    U = np.random.uniform(size=n_sample)\n",
    "    if anti_ind:\n",
    "        default_time = -(1/def_rate)*np.log(np.concatenate((U,1-U),axis=0))\n",
    "    else:\n",
    "        default_time = -(1/def_rate)*np.log(U)\n",
    "    if mean_ind:\n",
    "        default_time += 1/def_rate-default_time.mean()\n",
    "    t= default_time\n",
    "    def_ind = t<=mat\n",
    "    payoff = np.exp(-rf_rate*mat)*(~def_ind)+recovery*np.exp(-rf_rate*t)*(def_ind)\n",
    "    p = payoff.mean()\n",
    "    return p\n",
    "\n",
    "# Find the mean and std by calling the function 100 times. \n",
    "def MC_est_price_cv(iter_times, anti_ind, mean_ind):\n",
    "    price_list = []\n",
    "    for i in range(iter_times):\n",
    "        price_list.append(corp_bond_cv(anti_ind=anti_ind, mean_ind=mean_ind))\n",
    "    MC_est = np.mean(price_list)\n",
    "    MC_std = np.std(price_list)\n",
    "    return MC_est, MC_std\n",
    "\n",
    "print (MC_est_price_cv(100,False, False))\n",
    "\n",
    "print (MC_est_price_cv(100, True, False))\n",
    "\n",
    "print (MC_est_price_cv(100, True, True))"
   ]
  },
  {
   "cell_type": "markdown",
   "metadata": {
    "collapsed": true
   },
   "source": [
    "### 3. Finally, what is the analytic value of the corporate bond? How does it compare to your MC result above?"
   ]
  },
  {
   "cell_type": "code",
   "execution_count": 15,
   "metadata": {},
   "outputs": [],
   "source": [
    "### Put the analytic expression for the corporate bond price"
   ]
  },
  {
   "cell_type": "markdown",
   "metadata": {},
   "source": [
    "$$ p={\\rm e}^{-r_fT}{\\rm e}^{-\\lambda T}+\\int_0^T\\,R{\\rm e}^{-r_ft}{\\lambda}{\\rm e}^{-\\lambda t}{\\rm d}t $$\n",
    "After simplification:\n",
    "$$ p={\\rm e}^{-(r_f+\\lambda)T}+\\frac{R\\lambda}{r_f+\\lambda}[1-{\\rm e}^{-(r_f\n",
    "+\\lambda)T}]$$"
   ]
  },
  {
   "cell_type": "code",
   "execution_count": 16,
   "metadata": {},
   "outputs": [
    {
     "data": {
      "text/plain": [
       "0.9410860430608978"
      ]
     },
     "execution_count": 16,
     "metadata": {},
     "output_type": "execute_result"
    }
   ],
   "source": [
    "def analytic_bond(mat=1, def_rate=0.03, rf_rate=0.04, recovery=0.3):\n",
    "    p = np.exp(-(rf_rate+def_rate)*mat)+recovery*def_rate/(rf_rate+def_rate)*(1-np.exp(-(rf_rate+def_rate)*mat))\n",
    "    return p\n",
    "\n",
    "analytic_bond()"
   ]
  },
  {
   "cell_type": "markdown",
   "metadata": {},
   "source": [
    "MC result is quite close to the analytic value of the corporate bond"
   ]
  },
  {
   "cell_type": "code",
   "execution_count": null,
   "metadata": {},
   "outputs": [],
   "source": []
  },
  {
   "cell_type": "code",
   "execution_count": null,
   "metadata": {},
   "outputs": [],
   "source": []
  }
 ],
 "metadata": {
  "anaconda-cloud": {},
  "kernelspec": {
   "display_name": "Python 3",
   "language": "python",
   "name": "python3"
  },
  "language_info": {
   "codemirror_mode": {
    "name": "ipython",
    "version": 3
   },
   "file_extension": ".py",
   "mimetype": "text/x-python",
   "name": "python",
   "nbconvert_exporter": "python",
   "pygments_lexer": "ipython3",
   "version": "3.6.4"
  }
 },
 "nbformat": 4,
 "nbformat_minor": 1
}
